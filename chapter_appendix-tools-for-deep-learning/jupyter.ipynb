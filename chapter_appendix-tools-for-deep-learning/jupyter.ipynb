{
  "cells": [
    {
      "cell_type": "code",
      "source": [
        "x = int(input(\"Enter :\"))\n",
        "if x & 1 == 0:\n",
        "    print(\"Even\")\n",
        "else:\n",
        "    print(\"Odd\")"
      ],
      "metadata": {
        "id": "gQFGdN35-oPW",
        "outputId": "9a2cfc1f-5f2d-48f1-e5c0-6bbff258e218",
        "colab": {
          "base_uri": "https://localhost:8080/"
        }
      },
      "id": "gQFGdN35-oPW",
      "execution_count": 10,
      "outputs": [
        {
          "output_type": "stream",
          "name": "stdout",
          "text": [
            "Enter :25\n",
            "Odd\n",
            "Odd\n"
          ]
        }
      ]
    },
    {
      "cell_type": "code",
      "source": [
        "from sympy import *\n",
        "n=int(input(\"enter :\"))\n",
        "print(isprime(n))\n"
      ],
      "metadata": {
        "colab": {
          "base_uri": "https://localhost:8080/"
        },
        "id": "eXCzjjtF0Ls3",
        "outputId": "a409462a-961d-49f5-fa22-7e936f5cd579"
      },
      "id": "eXCzjjtF0Ls3",
      "execution_count": 18,
      "outputs": [
        {
          "output_type": "stream",
          "name": "stdout",
          "text": [
            "enter :0\n",
            "False\n"
          ]
        }
      ]
    },
    {
      "cell_type": "code",
      "source": [
        "a=int(input(\"enter :\"))\n",
        "for i in range(1,11):\n",
        "    print(a,\"x\",i,\"=\",a*i)\n"
      ],
      "metadata": {
        "id": "ACEFQiSF4qV_",
        "outputId": "4c173a04-e99b-4d20-d168-ef7576073a15",
        "colab": {
          "base_uri": "https://localhost:8080/"
        }
      },
      "id": "ACEFQiSF4qV_",
      "execution_count": 8,
      "outputs": [
        {
          "output_type": "stream",
          "name": "stdout",
          "text": [
            "enter4\n",
            "4 x 1 = 4\n",
            "4 x 2 = 8\n",
            "4 x 3 = 12\n",
            "4 x 4 = 16\n",
            "4 x 5 = 20\n",
            "4 x 6 = 24\n",
            "4 x 7 = 28\n",
            "4 x 8 = 32\n",
            "4 x 9 = 36\n",
            "4 x 10 = 40\n"
          ]
        }
      ]
    },
    {
      "cell_type": "code",
      "source": [
        "import random\n",
        "\n",
        "userinput = input(\"Enter your input: \").lower()\n",
        "\n",
        "if userinput in [\"stone\", \"paper\", \"scissors\"]:\n",
        "    compinput = random.choice([\"stone\", \"paper\", \"scissors\"])\n",
        "    print(\"Computer chose:\", compinput)\n",
        "\n",
        "    if userinput == compinput:\n",
        "        print(\"Tie!\")\n",
        "    elif (userinput == \"stone\" and compinput == \"scissors\") or \\\n",
        "         (userinput == \"paper\" and compinput == \"stone\") or \\\n",
        "         (userinput == \"scissors\" and compinput == \"paper\"):\n",
        "        print(\"You Win!\")\n",
        "    else:\n",
        "        print(\"Computer Wins!\")\n",
        "else:\n",
        "    print(\"Invalid input! Please enter 'stone', 'paper', or 'scissors'.\")\n"
      ],
      "metadata": {
        "id": "rceyjiDc3ayP",
        "outputId": "e8155975-fcdb-4ffc-a07d-169f7889cddc",
        "colab": {
          "base_uri": "https://localhost:8080/"
        }
      },
      "id": "rceyjiDc3ayP",
      "execution_count": 6,
      "outputs": [
        {
          "output_type": "stream",
          "name": "stdout",
          "text": [
            "Enter your input: stone\n",
            "Computer chose: scissors\n",
            "You Win!\n"
          ]
        }
      ]
    },
    {
      "cell_type": "code",
      "source": [
        "n=int(input(\"enter :\"))\n",
        "for i in range(1,n+1):\n",
        "    print(\"* \"*i)"
      ],
      "metadata": {
        "id": "-R06mBr4_9wm",
        "outputId": "7bfa3784-f2e2-460a-8d01-17f4dad50f83",
        "colab": {
          "base_uri": "https://localhost:8080/"
        }
      },
      "id": "-R06mBr4_9wm",
      "execution_count": 12,
      "outputs": [
        {
          "output_type": "stream",
          "name": "stdout",
          "text": [
            "enter :5\n",
            "* \n",
            "* * \n",
            "* * * \n",
            "* * * * \n",
            "* * * * * \n"
          ]
        }
      ]
    },
    {
      "cell_type": "code",
      "source": [
        "s = input(\"Enter a string: \")\n",
        "result = \"All digits\" if s.isdigit() else \"All lowercase\" if s.islower() else \"All uppercase\" if s.isupper() else \"Mixed or other characters\"\n",
        "\n",
        "print(result)\n"
      ],
      "metadata": {
        "id": "d28UJgV4AcN9",
        "outputId": "1f392585-3825-4e0e-9a27-57c5b32b3b0d",
        "colab": {
          "base_uri": "https://localhost:8080/"
        }
      },
      "id": "d28UJgV4AcN9",
      "execution_count": 20,
      "outputs": [
        {
          "output_type": "stream",
          "name": "stdout",
          "text": [
            "Enter a string: w\n",
            "All lowercase\n"
          ]
        }
      ]
    },
    {
      "cell_type": "code",
      "source": [],
      "metadata": {
        "id": "GjNF0U2iBVyM"
      },
      "id": "GjNF0U2iBVyM",
      "execution_count": null,
      "outputs": []
    }
  ],
  "metadata": {
    "kernelspec": {
      "display_name": "Python 3",
      "name": "python3"
    },
    "language_info": {
      "name": "python"
    },
    "required_libs": [],
    "colab": {
      "provenance": []
    }
  },
  "nbformat": 4,
  "nbformat_minor": 5
}